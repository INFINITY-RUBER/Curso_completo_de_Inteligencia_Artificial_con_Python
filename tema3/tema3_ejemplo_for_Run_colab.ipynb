{
  "nbformat": 4,
  "nbformat_minor": 0,
  "metadata": {
    "colab": {
      "name": "tema3.ipynb",
      "provenance": [],
      "private_outputs": true,
      "authorship_tag": "ABX9TyMAbRlqn34+IyceNG0u5+TQ",
      "include_colab_link": true
    },
    "kernelspec": {
      "name": "python3",
      "display_name": "Python 3"
    },
    "accelerator": "GPU"
  },
  "cells": [
    {
      "cell_type": "markdown",
      "metadata": {
        "id": "view-in-github",
        "colab_type": "text"
      },
      "source": [
        "<a href=\"https://colab.research.google.com/github/INFINITY-RUBER/Curso_completo_de_Inteligencia_Artificial_con_Python/blob/master/tema3/tema3_ejemplo_for_Run_colab.ipynb\" target=\"_parent\"><img src=\"https://colab.research.google.com/assets/colab-badge.svg\" alt=\"Open In Colab\"/></a>"
      ]
    },
    {
      "cell_type": "code",
      "metadata": {
        "id": "J2LSStauzg_4",
        "colab_type": "code",
        "colab": {}
      },
      "source": [
        "!pip install gym\n",
        "!apt-get install python-opengl -y\n",
        "!apt install xvfb -y\n",
        "!pip install gym[atari]\n",
        "!pip install pyvirtualdisplay\n",
        "!pip install piglet\n",
        "!pip install pyvirtualdisplay\n",
        "!pip install piglet\n",
        "!pip install tensorboardX"
      ],
      "execution_count": null,
      "outputs": []
    },
    {
      "cell_type": "code",
      "metadata": {
        "id": "GClyvxRj3Y3o",
        "colab_type": "code",
        "colab": {}
      },
      "source": [
        ""
      ],
      "execution_count": null,
      "outputs": []
    },
    {
      "cell_type": "code",
      "metadata": {
        "id": "CnvHQbPtz6wH",
        "colab_type": "code",
        "colab": {}
      },
      "source": [
        "# CARGAR TOKEN DEL DRIVE\n",
        "from google.colab import drive\n",
        "drive.mount('/content/drive/')"
      ],
      "execution_count": null,
      "outputs": []
    },
    {
      "cell_type": "code",
      "metadata": {
        "id": "qnvyqF2Z2BqL",
        "colab_type": "code",
        "colab": {}
      },
      "source": [
        "cd /content/drive/My Drive/Programas drive/tema3\n"
      ],
      "execution_count": null,
      "outputs": []
    },
    {
      "cell_type": "code",
      "metadata": {
        "id": "fc02vM8A2Yqp",
        "colab_type": "code",
        "colab": {}
      },
      "source": [
        "ls\n"
      ],
      "execution_count": null,
      "outputs": []
    },
    {
      "cell_type": "code",
      "metadata": {
        "id": "wC3eu_R-2ajr",
        "colab_type": "code",
        "colab": {}
      },
      "source": [
        "!python GPU_DeepQLearner.py --env \"PongNoFrameskip-v4\""
      ],
      "execution_count": null,
      "outputs": []
    },
    {
      "cell_type": "code",
      "metadata": {
        "id": "1jIVsZot7T2e",
        "colab_type": "code",
        "colab": {}
      },
      "source": [
        "!tensorboard --logdir=logs/"
      ],
      "execution_count": null,
      "outputs": []
    },
    {
      "cell_type": "code",
      "metadata": {
        "id": "2RApkRHi7gTM",
        "colab_type": "code",
        "colab": {}
      },
      "source": [
        "!python GPU_DeepQLearner.py --env \"PongNoFrameskip-v4\" --test --render"
      ],
      "execution_count": null,
      "outputs": []
    },
    {
      "cell_type": "code",
      "metadata": {
        "id": "5krH7z_zCfoK",
        "colab_type": "code",
        "colab": {}
      },
      "source": [
        "!python GPU_DeepQLearner.py --env \"Seaquest-v0\""
      ],
      "execution_count": null,
      "outputs": []
    },
    {
      "cell_type": "markdown",
      "metadata": {
        "id": "6AehB3SyDVvx",
        "colab_type": "text"
      },
      "source": [
        ""
      ]
    }
  ]
}