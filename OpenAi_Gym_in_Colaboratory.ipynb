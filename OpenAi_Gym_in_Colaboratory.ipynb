{
  "nbformat": 4,
  "nbformat_minor": 0,
  "metadata": {
    "colab": {
      "name": "OpenAi Gym in Colaboratory",
      "provenance": [],
      "private_outputs": true,
      "authorship_tag": "ABX9TyO/xncAi4JXPL4loKtb0ORe",
      "include_colab_link": true
    },
    "kernelspec": {
      "name": "python3",
      "display_name": "Python 3"
    },
    "accelerator": "GPU"
  },
  "cells": [
    {
      "cell_type": "markdown",
      "metadata": {
        "id": "view-in-github",
        "colab_type": "text"
      },
      "source": [
        "<a href=\"https://colab.research.google.com/github/INFINITY-RUBER/Curso_completo_de_Inteligencia_Artificial_con_Python/blob/master/OpenAi_Gym_in_Colaboratory.ipynb\" target=\"_parent\"><img src=\"https://colab.research.google.com/assets/colab-badge.svg\" alt=\"Open In Colab\"/></a>"
      ]
    },
    {
      "cell_type": "code",
      "metadata": {
        "id": "rYiF3-RCWEOI",
        "colab_type": "code",
        "colab": {}
      },
      "source": [
        "!pip install gym\n",
        "!apt-get install python-opengl -y\n",
        "!apt install xvfb -y\n",
        "!pip install gym[atari]"
      ],
      "execution_count": null,
      "outputs": []
    },
    {
      "cell_type": "code",
      "metadata": {
        "id": "e4oSCLPHWgyM",
        "colab_type": "code",
        "colab": {}
      },
      "source": [
        "!pip install pyvirtualdisplay\n",
        "!pip install piglet"
      ],
      "execution_count": null,
      "outputs": []
    },
    {
      "cell_type": "code",
      "metadata": {
        "id": "9w2P3mDcWggd",
        "colab_type": "code",
        "colab": {}
      },
      "source": [
        "from pyvirtualdisplay import Display\n",
        "display = Display(visible=0, size=(1400, 900))\n",
        "display.start()"
      ],
      "execution_count": null,
      "outputs": []
    },
    {
      "cell_type": "code",
      "metadata": {
        "id": "2snmbA22U_jG",
        "colab_type": "code",
        "colab": {}
      },
      "source": [
        "# This code creates a virtual display to draw game images on. \n",
        "# If you are running locally, just ignore it\n",
        "import os\n",
        "if type(os.environ.get(\"DISPLAY\")) is not str or len(os.environ.get(\"DISPLAY\"))==0:\n",
        "    !bash ../xvfb start\n",
        "    %env DISPLAY=:1"
      ],
      "execution_count": null,
      "outputs": []
    },
    {
      "cell_type": "code",
      "metadata": {
        "id": "LGzxP3GqVRDW",
        "colab_type": "code",
        "colab": {}
      },
      "source": [
        "import gym\n",
        "from gym import logger as gymlogger\n",
        "from gym.wrappers import Monitor\n",
        "gymlogger.set_level(40) # error only\n",
        "import tensorflow as tf\n",
        "import numpy as np\n",
        "import random\n",
        "import matplotlib\n",
        "import matplotlib.pyplot as plt\n",
        "%matplotlib inline\n",
        "import math\n",
        "import glob\n",
        "import io\n",
        "import base64\n",
        "from IPython.display import HTML\n",
        "\n",
        "from IPython import display as ipythondisplay"
      ],
      "execution_count": null,
      "outputs": []
    },
    {
      "cell_type": "code",
      "metadata": {
        "id": "CQukxeiQR3Wg",
        "colab_type": "code",
        "colab": {}
      },
      "source": [
        "\"\"\"\n",
        "Utility functions to enable video recording of gym environment and displaying it\n",
        "To enable video, just do \"env = wrap_env(env)\"\"\n",
        "\"\"\"\n",
        "\n",
        "def show_video():\n",
        "  mp4list = glob.glob('video/*.mp4')\n",
        "  if len(mp4list) > 0:\n",
        "    mp4 = mp4list[0]\n",
        "    video = io.open(mp4, 'r+b').read()\n",
        "    encoded = base64.b64encode(video)\n",
        "    ipythondisplay.display(HTML(data='''<video alt=\"test\" autoplay \n",
        "                loop controls style=\"height: 400px;\">\n",
        "                <source src=\"data:video/mp4;base64,{0}\" type=\"video/mp4\" />\n",
        "             </video>'''.format(encoded.decode('ascii'))))\n",
        "  else: \n",
        "    print(\"Could not find video\")\n",
        "    \n",
        "\n",
        "def wrap_env(env):\n",
        "  env = Monitor(env, './video', force=True)\n",
        "  return env"
      ],
      "execution_count": null,
      "outputs": []
    },
    {
      "cell_type": "markdown",
      "metadata": {
        "id": "AJinm_cYSCzD",
        "colab_type": "text"
      },
      "source": [
        "## OpenAI Gym Available Environment\n",
        "\n",
        "Gym comes with a diverse suite of environments that range from easy to difficult and involve many different kinds of data. View the full list of environments to get the birds-eye view.\n",
        "\n",
        "* Classic control and toy text: complete small-scale tasks, mostly from the RL literature. They’re here to get you started.\n",
        "\n",
        "* Algorithmic: perform computations such as adding multi-digit numbers and reversing sequences. One might object that these tasks are easy for a computer. The challenge is to learn these algorithms purely from examples. These tasks have the nice property that it’s easy to vary the difficulty by varying the sequence length.\n",
        "\n",
        "* Atari: play classic Atari games.\n",
        "\n",
        "* 2D and 3D robots: control a robot in simulation. These tasks use the MuJoCo physics engine, which was designed for fast and accurate robot simulation."
      ]
    },
    {
      "cell_type": "markdown",
      "metadata": {
        "id": "7syfNnWESd0s",
        "colab_type": "text"
      },
      "source": [
        "## List the Environments Available in your Installation\n",
        "gym’s main purpose is to provide a large collection of environments that expose a common interface and are versioned to allow for comparisons."
      ]
    },
    {
      "cell_type": "code",
      "metadata": {
        "id": "w0JRj6opR3Sf",
        "colab_type": "code",
        "colab": {}
      },
      "source": [
        "from gym import envs\n",
        "print(envs.registry.all())"
      ],
      "execution_count": null,
      "outputs": []
    },
    {
      "cell_type": "markdown",
      "metadata": {
        "id": "whv-DBnkSxkA",
        "colab_type": "text"
      },
      "source": [
        "## Añade tus propios entornos"
      ]
    },
    {
      "cell_type": "code",
      "metadata": {
        "id": "sONG9Pg9R3Qp",
        "colab_type": "code",
        "colab": {}
      },
      "source": [
        "# to be completed\n",
        "gym.make()\n",
        "register()"
      ],
      "execution_count": null,
      "outputs": []
    },
    {
      "cell_type": "markdown",
      "metadata": {
        "id": "gS8RFubdS_06",
        "colab_type": "text"
      },
      "source": [
        "## Algorítmico \n",
        "Estas son una variedad de tareas algorítmicas, como aprender a copiar una secuencia."
      ]
    },
    {
      "cell_type": "code",
      "metadata": {
        "id": "DgdSwwxiR3K1",
        "colab_type": "code",
        "colab": {}
      },
      "source": [
        "env = gym.make('Copy-v0')\n",
        "env.reset()\n",
        "#plt.imshow(env.render())\n",
        "env.render()"
      ],
      "execution_count": null,
      "outputs": []
    },
    {
      "cell_type": "markdown",
      "metadata": {
        "id": "FjJgw03xTPqb",
        "colab_type": "text"
      },
      "source": [
        "Los entornos de Atari son una variedad de videojuegos de Atari. Gym ya está instalado pero no con entornos de juego atari, para obtener eso:"
      ]
    },
    {
      "cell_type": "code",
      "metadata": {
        "id": "eoTJu5a6R3Ft",
        "colab_type": "code",
        "colab": {}
      },
      "source": [
        "!pip install gym[atari]"
      ],
      "execution_count": null,
      "outputs": []
    },
    {
      "cell_type": "code",
      "metadata": {
        "id": "LzskmXt1R3BB",
        "colab_type": "code",
        "colab": {}
      },
      "source": [
        "# Atari Environment\n",
        "env = gym.make('SpaceInvaders-v0')\n",
        "env.reset()\n",
        "plt.imshow(env.render('rgb_array'))"
      ],
      "execution_count": null,
      "outputs": []
    },
    {
      "cell_type": "markdown",
      "metadata": {
        "id": "7lNAsWc7TglZ",
        "colab_type": "text"
      },
      "source": [
        "Box2d es un motor de física 2D. Puede instalarlo a través de y luego comenzar de la siguiente manera:"
      ]
    },
    {
      "cell_type": "code",
      "metadata": {
        "id": "E89bztcYR2wH",
        "colab_type": "code",
        "colab": {}
      },
      "source": [
        "!pip install gym[box2d]"
      ],
      "execution_count": null,
      "outputs": []
    },
    {
      "cell_type": "code",
      "metadata": {
        "id": "O9wJ3YbZR19V",
        "colab_type": "code",
        "colab": {}
      },
      "source": [
        "# Box2d Environment\n",
        "env = gym.make('LunarLander-v2')\n",
        "env.reset()\n",
        "plt.imshow(env.render('rgb_array'))\n",
        "env.render()"
      ],
      "execution_count": null,
      "outputs": []
    },
    {
      "cell_type": "markdown",
      "metadata": {
        "id": "Uw9RDFCCT2jz",
        "colab_type": "text"
      },
      "source": [
        "### Control clásico \n",
        "Estas son una variedad de tareas de control clásicas, que aparecerían en un libro de texto de aprendizaje de refuerzo típico. Si no realizó la instalación completa, deberá ejecutar el siguiente código para habilitar la representación."
      ]
    },
    {
      "cell_type": "code",
      "metadata": {
        "id": "KJ3lFshbT2KR",
        "colab_type": "code",
        "colab": {}
      },
      "source": [
        "!pip install gym[classic_control]"
      ],
      "execution_count": null,
      "outputs": []
    },
    {
      "cell_type": "code",
      "metadata": {
        "id": "sAtE4nW-T18m",
        "colab_type": "code",
        "colab": {}
      },
      "source": [
        "env = gym.make('CartPole-v0')\n",
        "env.reset()\n",
        "plt.imshow(env.render('rgb_array'))\n",
        "#env.render()"
      ],
      "execution_count": null,
      "outputs": []
    },
    {
      "cell_type": "markdown",
      "metadata": {
        "id": "FZPDiBHdUHtV",
        "colab_type": "text"
      },
      "source": [
        "### Robotics\n",
        "MuJoCo is a physics engine which can do very detailed efficient simulations with contacts and we use it for all robotics environments. It's not open-source, so you'll have to follow the instructions in mujoco-py to set it up."
      ]
    },
    {
      "cell_type": "code",
      "metadata": {
        "id": "_zVoh18yUVor",
        "colab_type": "code",
        "colab": {}
      },
      "source": [
        "!pip install gym[robotics]"
      ],
      "execution_count": null,
      "outputs": []
    },
    {
      "cell_type": "code",
      "metadata": {
        "id": "eWJEWjysUKrB",
        "colab_type": "code",
        "colab": {}
      },
      "source": [
        "env = gym.make('HandManipulateBlock-v0')\n",
        "env.reset()\n",
        "plt.imshow(env.render('rgb_array'))\n",
        "#env.render()"
      ],
      "execution_count": null,
      "outputs": []
    },
    {
      "cell_type": "code",
      "metadata": {
        "id": "r5Ig1IWebrrp",
        "colab_type": "code",
        "colab": {}
      },
      "source": [
        "\n",
        "import timeit\n",
        "\n",
        "def entrenamiento_gpu():\n",
        "  with tf.device('/device:GPU:0'):\n",
        "    print('tf.test.gpu_device_name()')\n",
        "    print('ejecutado')\n",
        "  return print('ejecutado')\n",
        "\n",
        "gpu_time = timeit.timeit('entrenamiento_gpu()', number=1, setup='from __main__ import entrenamiento_gpu')\n",
        "gpu_time"
      ],
      "execution_count": null,
      "outputs": []
    },
    {
      "cell_type": "code",
      "metadata": {
        "id": "szfGKQ95eZqX",
        "colab_type": "code",
        "colab": {}
      },
      "source": [
        "!python pruebas_de_clase.py"
      ],
      "execution_count": null,
      "outputs": []
    },
    {
      "cell_type": "code",
      "metadata": {
        "id": "ddGV2-drv5tW",
        "colab_type": "code",
        "colab": {}
      },
      "source": [
        "!pip install box2d\n"
      ],
      "execution_count": null,
      "outputs": []
    },
    {
      "cell_type": "code",
      "metadata": {
        "id": "pR3_38gWaQnp",
        "colab_type": "code",
        "colab": {}
      },
      "source": [
        "import tensorflow as tf\n",
        "print(tf.__version__)\n",
        "tf.test.gpu_device_name()"
      ],
      "execution_count": null,
      "outputs": []
    },
    {
      "cell_type": "code",
      "metadata": {
        "id": "nlQzKyqEv7cp",
        "colab_type": "code",
        "colab": {}
      },
      "source": [
        "import gym as g"
      ],
      "execution_count": null,
      "outputs": []
    },
    {
      "cell_type": "code",
      "metadata": {
        "id": "IjgFb_lRxJ1V",
        "colab_type": "code",
        "colab": {}
      },
      "source": [
        "g.__version__"
      ],
      "execution_count": null,
      "outputs": []
    },
    {
      "cell_type": "code",
      "metadata": {
        "id": "ZiDVj2YxxX-J",
        "colab_type": "code",
        "colab": {}
      },
      "source": [
        "!sudo apt install cmake swig zlib1g-dev python3-tk -y"
      ],
      "execution_count": null,
      "outputs": []
    },
    {
      "cell_type": "code",
      "metadata": {
        "id": "dsaZSLpdO7wp",
        "colab_type": "code",
        "colab": {}
      },
      "source": [
        "!sudo apt install ffmpeg"
      ],
      "execution_count": null,
      "outputs": []
    },
    {
      "cell_type": "code",
      "metadata": {
        "id": "7giEL4yYPOHx",
        "colab_type": "code",
        "colab": {}
      },
      "source": [
        "!git clone https://github.com/openai/gym\n",
        "!cd gym\n",
        "!pip install gym[all]"
      ],
      "execution_count": null,
      "outputs": []
    }
  ]
}